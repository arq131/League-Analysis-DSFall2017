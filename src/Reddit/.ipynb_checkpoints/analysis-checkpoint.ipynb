{
 "cells": [
  {
   "cell_type": "code",
   "execution_count": 33,
   "metadata": {},
   "outputs": [
    {
     "ename": "AttributeError",
     "evalue": "'DataFrame' object has no attribute 'sort'",
     "output_type": "error",
     "traceback": [
      "\u001b[1;31m---------------------------------------------------------------------------\u001b[0m",
      "\u001b[1;31mAttributeError\u001b[0m                            Traceback (most recent call last)",
      "\u001b[1;32m<ipython-input-33-daa18c5cb93a>\u001b[0m in \u001b[0;36m<module>\u001b[1;34m()\u001b[0m\n\u001b[0;32m     33\u001b[0m \u001b[0mkwHist\u001b[0m \u001b[1;33m=\u001b[0m \u001b[0mkwHist\u001b[0m\u001b[1;33m.\u001b[0m\u001b[0mT\u001b[0m\u001b[1;33m\u001b[0m\u001b[0m\n\u001b[0;32m     34\u001b[0m \u001b[1;33m\u001b[0m\u001b[0m\n\u001b[1;32m---> 35\u001b[1;33m \u001b[0mkwHistPlot\u001b[0m \u001b[1;33m=\u001b[0m \u001b[0mkwHist\u001b[0m\u001b[1;33m.\u001b[0m\u001b[0msort\u001b[0m\u001b[1;33m(\u001b[0m\u001b[0mascending\u001b[0m\u001b[1;33m=\u001b[0m\u001b[1;32mFalse\u001b[0m\u001b[1;33m)\u001b[0m\u001b[1;33m.\u001b[0m\u001b[0mplot\u001b[0m\u001b[1;33m(\u001b[0m\u001b[0mkind\u001b[0m\u001b[1;33m=\u001b[0m\u001b[1;34m'bar'\u001b[0m\u001b[1;33m,\u001b[0m \u001b[0mlegend\u001b[0m\u001b[1;33m=\u001b[0m\u001b[1;32mNone\u001b[0m\u001b[1;33m,\u001b[0m \u001b[0mtitle\u001b[0m\u001b[1;33m=\u001b[0m\u001b[1;34m'Frequency of Keywords in Reddit Submissions'\u001b[0m\u001b[1;33m)\u001b[0m\u001b[1;33m\u001b[0m\u001b[0m\n\u001b[0m\u001b[0;32m     36\u001b[0m \u001b[0mkwHistPlot\u001b[0m\u001b[1;33m.\u001b[0m\u001b[0mset_xlabel\u001b[0m\u001b[1;33m(\u001b[0m\u001b[1;34m'Keyword'\u001b[0m\u001b[1;33m)\u001b[0m\u001b[1;33m\u001b[0m\u001b[0m\n\u001b[0;32m     37\u001b[0m \u001b[0mkwHistPlot\u001b[0m\u001b[1;33m.\u001b[0m\u001b[0mset_ylabel\u001b[0m\u001b[1;33m(\u001b[0m\u001b[1;34m'Occurences'\u001b[0m\u001b[1;33m)\u001b[0m\u001b[1;33m\u001b[0m\u001b[0m\n",
      "\u001b[1;32mC:\\Users\\Joey\\Anaconda3\\lib\\site-packages\\pandas\\core\\generic.py\u001b[0m in \u001b[0;36m__getattr__\u001b[1;34m(self, name)\u001b[0m\n\u001b[0;32m   2968\u001b[0m             \u001b[1;32mif\u001b[0m \u001b[0mname\u001b[0m \u001b[1;32min\u001b[0m \u001b[0mself\u001b[0m\u001b[1;33m.\u001b[0m\u001b[0m_info_axis\u001b[0m\u001b[1;33m:\u001b[0m\u001b[1;33m\u001b[0m\u001b[0m\n\u001b[0;32m   2969\u001b[0m                 \u001b[1;32mreturn\u001b[0m \u001b[0mself\u001b[0m\u001b[1;33m[\u001b[0m\u001b[0mname\u001b[0m\u001b[1;33m]\u001b[0m\u001b[1;33m\u001b[0m\u001b[0m\n\u001b[1;32m-> 2970\u001b[1;33m             \u001b[1;32mreturn\u001b[0m \u001b[0mobject\u001b[0m\u001b[1;33m.\u001b[0m\u001b[0m__getattribute__\u001b[0m\u001b[1;33m(\u001b[0m\u001b[0mself\u001b[0m\u001b[1;33m,\u001b[0m \u001b[0mname\u001b[0m\u001b[1;33m)\u001b[0m\u001b[1;33m\u001b[0m\u001b[0m\n\u001b[0m\u001b[0;32m   2971\u001b[0m \u001b[1;33m\u001b[0m\u001b[0m\n\u001b[0;32m   2972\u001b[0m     \u001b[1;32mdef\u001b[0m \u001b[0m__setattr__\u001b[0m\u001b[1;33m(\u001b[0m\u001b[0mself\u001b[0m\u001b[1;33m,\u001b[0m \u001b[0mname\u001b[0m\u001b[1;33m,\u001b[0m \u001b[0mvalue\u001b[0m\u001b[1;33m)\u001b[0m\u001b[1;33m:\u001b[0m\u001b[1;33m\u001b[0m\u001b[0m\n",
      "\u001b[1;31mAttributeError\u001b[0m: 'DataFrame' object has no attribute 'sort'"
     ]
    }
   ],
   "source": [
    "import pandas as pd\n",
    "import matplotlib.pyplot as plt\n",
    "\n",
    "df = pd.DataFrame.from_csv('submissionDataFinal.csv')\n",
    "\n",
    "# Rows containing KeyWords\n",
    "kwPatch = df[df['Title'].str.contains('patch')]\n",
    "kwPreseason = df[df['Title'].str.contains('preseason')]\n",
    "kwMastery = df[df['Title'].str.contains('masteries')]\n",
    "kwRunes = df[df['Title'].str.contains('rune')]\n",
    "kwImprove = df[df['Title'].str.contains('improve')]\n",
    "kwTips = df[df['Title'].str.contains('tip')]\n",
    "\n",
    "# Keyword Frequency\n",
    "kwPatchFreq = kwPatch['Title'].count()\n",
    "kwPreseasonFreq = kwPreseason['Title'].count()\n",
    "kwMasteryFreq = kwMastery['Title'].count()\n",
    "kwRunesFreq = kwRunes['Title'].count()\n",
    "kwImproveFreq = kwImprove['Title'].count()\n",
    "kwTipsFreq = kwTips['Title'].count()\n",
    "\n",
    "# Sum of voting scores for keyword rows\n",
    "kwPatchScore = kwPatch['Score'].sum()\n",
    "kwPreseasonScore = kwPreseason['Score'].sum()\n",
    "kwMasteryScore = kwMastery['Score'].sum()\n",
    "kwRunesScore = kwRunes['Score'].sum()\n",
    "kwImproveScore = kwImprove['Score'].sum()\n",
    "kwTipsScore = kwTips['Score'].sum()\n",
    "\n",
    "# Frequency bar chart\n",
    "kwData = {'Patch': [kwPatchFreq], 'Pre-season': [kwPreseasonFreq], 'Masteries': [kwMasteryFreq], 'Runes': [kwRunesFreq], 'Improve': [kwImproveFreq], 'Tips': [kwTipsFreq]}\n",
    "kwHist = pd.DataFrame(data=kwData)\n",
    "kwHist = kwHist.T\n",
    "\n",
    "kwHistPlot = kwHist.plot(kind='bar', legend=None, title='Frequency of Keywords in Reddit Submissions')\n",
    "kwHistPlot.set_xlabel('Keyword')\n",
    "kwHistPlot.set_ylabel('Occurences')\n",
    "\n",
    "# Scores bar chart\n",
    "kwScoreData = {'Patch': [kwPatchScore], 'Pre-season': [kwPreseasonScore], 'Masteries': [kwMasteryScore], 'Runes': [kwRunesScore], 'Improve': [kwImproveScore], 'Tips': [kwTipsScore]}\n",
    "kwScoreHist = pd.DataFrame(data=kwScoreData)\n",
    "kwScoreHist = kwScoreHist.T\n",
    "\n",
    "kwHistScorePlot = kwScoreHist.plot(kind='bar', legend=None, title='Sum of Reddit Post Scores Containing Keywords')\n",
    "kwHistScorePlot.set_xlabel('Keyword')\n",
    "kwHistScorePlot.set_ylabel('Score (upvotes - downvotes)')\n",
    "\n",
    "plt.show()"
   ]
  },
  {
   "cell_type": "code",
   "execution_count": null,
   "metadata": {
    "collapsed": true
   },
   "outputs": [],
   "source": []
  },
  {
   "cell_type": "code",
   "execution_count": null,
   "metadata": {
    "collapsed": true
   },
   "outputs": [],
   "source": []
  }
 ],
 "metadata": {
  "kernelspec": {
   "display_name": "Python 3",
   "language": "python",
   "name": "python3"
  },
  "language_info": {
   "codemirror_mode": {
    "name": "ipython",
    "version": 3
   },
   "file_extension": ".py",
   "mimetype": "text/x-python",
   "name": "python",
   "nbconvert_exporter": "python",
   "pygments_lexer": "ipython3",
   "version": "3.6.1"
  }
 },
 "nbformat": 4,
 "nbformat_minor": 2
}
